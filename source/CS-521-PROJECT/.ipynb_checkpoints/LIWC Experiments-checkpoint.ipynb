{
 "cells": [
  {
   "cell_type": "code",
   "execution_count": 1,
   "metadata": {},
   "outputs": [
    {
     "name": "stdout",
     "output_type": "stream",
     "text": [
      "NLP_Task ready to use.\n"
     ]
    }
   ],
   "source": [
    "import pandas as pd\n",
    "import numpy as np\n",
    "import util\n",
    "import preprocessing\n",
    "import importlib\n",
    "import string\n",
    "import re\n",
    "import nlp_util"
   ]
  },
  {
   "cell_type": "code",
   "execution_count": 178,
   "metadata": {},
   "outputs": [],
   "source": [
    "from sklearn.metrics import classification_report\n",
    "from sklearn.metrics import accuracy_score"
   ]
  },
  {
   "cell_type": "code",
   "execution_count": 2,
   "metadata": {},
   "outputs": [],
   "source": [
    "# load files\n",
    "tr_file, va_file, te_file = util.load_files()\n",
    "tr_dict = util.tsv_to_dict(tsv_file=tr_file)\n",
    "va_dict = util.tsv_to_dict(tsv_file=va_file)"
   ]
  },
  {
   "cell_type": "code",
   "execution_count": 433,
   "metadata": {},
   "outputs": [],
   "source": [
    "## Data without punctuation and uppercases\n",
    "tr_data_no_punct_upper = preprocessing.clean_text(sentences=tr_dict['statement'], remove_punctuation=True, lower_case= True)\n",
    "va_data_no_punct_upper = preprocessing.clean_text(sentences=va_dict['statement'], remove_punctuation=True, lower_case= True)"
   ]
  },
  {
   "cell_type": "code",
   "execution_count": 446,
   "metadata": {},
   "outputs": [],
   "source": [
    "tr_data_no_punct_upper = preprocessing.clean_text(liwc_data.iloc[:,2].values, remove_punctuation=True, lower_case= True)"
   ]
  },
  {
   "cell_type": "code",
   "execution_count": 447,
   "metadata": {},
   "outputs": [],
   "source": [
    "tr_data_no_punct_upper\n",
    "file = open('testfile.txt','w') \n",
    "for text in tr_data_no_punct_upper:\n",
    "    file.write(text) \n",
    "    file.write('\\n')\n",
    "file.close() "
   ]
  },
  {
   "cell_type": "code",
   "execution_count": 7,
   "metadata": {},
   "outputs": [],
   "source": [
    "liwc_data = pd.read_csv('..\\\\dataset\\\\train_liwc.csv')"
   ]
  },
  {
   "cell_type": "code",
   "execution_count": 449,
   "metadata": {},
   "outputs": [],
   "source": [
    "sentiment_data = pd.read_csv('testfile+results.csv')"
   ]
  },
  {
   "cell_type": "code",
   "execution_count": 462,
   "metadata": {},
   "outputs": [],
   "source": [
    "false_pos = sentiment_data.iloc[:,1].values[[i for i,x in enumerate(labels) if x=='false']]\n",
    "half_true_pos = sentiment_data.iloc[:,1].values[[i for i,x in enumerate(labels) if x=='half-true']]\n",
    "mostly_true_pos = sentiment_data.iloc[:,1].values[[i for i,x in enumerate(labels) if x=='mostly-true']]\n",
    "true_pos = sentiment_data.iloc[:,1].values[[i for i,x in enumerate(labels) if x=='true']]\n",
    "barely_true_pos = sentiment_data.iloc[:,1].values[[i for i,x in enumerate(labels) if x=='barely-true']]\n",
    "pans_fire_pos = sentiment_data.iloc[:,1].values[[i for i,x in enumerate(labels) if x=='pants-fire']]"
   ]
  },
  {
   "cell_type": "code",
   "execution_count": 463,
   "metadata": {},
   "outputs": [],
   "source": [
    "false_neg = sentiment_data.iloc[:,2].values[[i for i,x in enumerate(labels) if x=='false']]\n",
    "half_true_neg = sentiment_data.iloc[:,2].values[[i for i,x in enumerate(labels) if x=='half-true']]\n",
    "mostly_true_neg = sentiment_data.iloc[:,2].values[[i for i,x in enumerate(labels) if x=='mostly-true']]\n",
    "true_neg = sentiment_data.iloc[:,2].values[[i for i,x in enumerate(labels) if x=='true']]\n",
    "barely_true_neg = sentiment_data.iloc[:,2].values[[i for i,x in enumerate(labels) if x=='barely-true']]\n",
    "pans_fire_neg = sentiment_data.iloc[:,2].values[[i for i,x in enumerate(labels) if x=='pants-fire']]"
   ]
  },
  {
   "cell_type": "code",
   "execution_count": 514,
   "metadata": {},
   "outputs": [],
   "source": [
    "false_stats = np.array([len(false_pos[(false_pos==1)]),len(false_pos[(false_pos==2)]),len(false_pos[(false_pos==3)]),len(false_pos[(false_pos==4)]),len(false_pos[(false_pos==5)])])\n",
    "true_stats = np.array([len(true_pos[(true_pos==1)]),len(true_pos[(true_pos==2)]),len(true_pos[(true_pos==3)]),len(true_pos[(true_pos==4)]),len(true_pos[(true_pos==5)])])\n",
    "half_true_stats = np.array([len(half_true_pos[(half_true_pos==1)]),len(half_true_pos[(half_true_pos==2)]),len(half_true_pos[(half_true_pos==3)]),len(half_true_pos[(half_true_pos==4)]),len(half_true_pos[(half_true_pos==5)])])\n",
    "mostly_true_stats = np.array([len(mostly_true_pos[(mostly_true_pos==1)]),len(mostly_true_pos[(mostly_true_pos==2)]),len(mostly_true_pos[(mostly_true_pos==3)]),len(mostly_true_pos[(mostly_true_pos==4)]),len(mostly_true_pos[(mostly_true_pos==5)])])\n",
    "barely_true_stats = np.array([len(barely_true_pos[(barely_true_pos==1)]),len(barely_true_pos[(barely_true_pos==2)]),len(barely_true_pos[(barely_true_pos==3)]),len(barely_true_pos[(barely_true_pos==4)]),len(barely_true_pos[(barely_true_pos==5)])])\n",
    "pans_fire_stats = np.array([len(pans_fire_pos[(pans_fire_pos==1)]),len(pans_fire_pos[(pans_fire_pos==2)]),len(pans_fire_pos[(pans_fire_pos==3)]),len(pans_fire_pos[(pans_fire_pos==4)]),len(pans_fire_pos[(pans_fire_pos==5)])])"
   ]
  },
  {
   "cell_type": "code",
   "execution_count": 515,
   "metadata": {},
   "outputs": [],
   "source": [
    "false_stats_neg = np.array([len(false_neg[(false_neg==-1)]),len(false_neg[(false_neg==-2)]),len(false_neg[(false_neg==-3)]),len(false_neg[(false_neg==-4)]),len(false_neg[(false_neg==-5)])])\n",
    "true_stats_neg = np.array([len(true_neg[(true_neg==-1)]),len(true_neg[(true_neg==-2)]),len(true_neg[(true_neg==-3)]),len(true_neg[(true_neg==-4)]),len(true_neg[(true_neg==-5)])])\n",
    "half_true_stats_neg = np.array([len(half_true_neg[(half_true_neg==-1)]),len(half_true_neg[(half_true_neg==-2)]),len(half_true_neg[(half_true_neg==-3)]),len(half_true_neg[(half_true_neg==-4)]),len(half_true_neg[(half_true_neg==-5)])])\n",
    "mostly_true_stats_neg = np.array([len(mostly_true_neg[(mostly_true_neg==-1)]),len(mostly_true_neg[(mostly_true_neg==-2)]),len(mostly_true_neg[(mostly_true_neg==-3)]),len(mostly_true_neg[(mostly_true_neg==-4)]),len(mostly_true_neg[(mostly_true_neg==-5)])])\n",
    "barely_true_stats_neg = np.array([len(barely_true_neg[(barely_true_neg==-1)]),len(barely_true_neg[(barely_true_neg==-2)]),len(barely_true_neg[(barely_true_neg==-3)]),len(barely_true_neg[(barely_true_neg==-4)]),len(barely_true_neg[(barely_true_neg==-5)])])\n",
    "pans_fire_stats_neg = np.array([len(pans_fire_neg[(pans_fire_neg==-1)]),len(pans_fire_neg[(pans_fire_neg==-2)]),len(pans_fire_neg[(pans_fire_neg==-3)]),len(pans_fire_neg[(pans_fire_neg==-4)]),len(pans_fire_neg[(pans_fire_neg==-5)])])"
   ]
  },
  {
   "cell_type": "code",
   "execution_count": 472,
   "metadata": {},
   "outputs": [],
   "source": [
    "import matplotlib.pyplot as plt"
   ]
  },
  {
   "cell_type": "code",
   "execution_count": 516,
   "metadata": {},
   "outputs": [
    {
     "data": {
      "image/png": "[encoded data removed]",
      "text/plain": [
       "<Figure size 1440x720 with 1 Axes>"
      ]
     },
     "metadata": {},
     "output_type": "display_data"
    }
   ],
   "source": [
    "fig, ax = plt.subplots(figsize=(20,10))\n",
    "ind = np.arange(5)    # the x locations for the groups\n",
    "width = 0.15         # the width of the bars\n",
    "p1 = ax.bar(ind, false_stats, width, color='r')\n",
    "p2 = ax.bar(ind+width, true_stats, width, color='g')\n",
    "p3 = ax.bar(ind+width*2, half_true_stats, width, color='b')\n",
    "p4 = ax.bar(ind+width*3, mostly_true_stats, width, color='gray')\n",
    "p5 = ax.bar(ind+width*4, barely_true_stats, width, color='orange')\n",
    "p6 = ax.bar(ind+width*5, pans_fire_stats,width,color='skyblue')\n",
    "ax.set_title('Positive levels among sentences')\n",
    "ax.set_xticks(ind + width / 2)\n",
    "ax.set_xticklabels(('1', '2', '3', '4', '5'))\n",
    "\n",
    "ax.legend((p1[0], p2[0],p3[0],p4[0],p5[0],p6[0]), ('False', 'True', 'Half-True','Mostly-true','Barely-true','Pants-fire'))\n",
    "#ax.yaxis.set_units(inch)\n",
    "ax.autoscale_view()\n",
    "\n",
    "plt.show()"
   ]
  },
  {
   "cell_type": "code",
   "execution_count": 519,
   "metadata": {},
   "outputs": [
    {
     "data": {
      "image/png": "[encoded data removed]",
      "text/plain": [
       "<Figure size 1440x720 with 1 Axes>"
      ]
     },
     "metadata": {},
     "output_type": "display_data"
    }
   ],
   "source": [
    "\n",
    "fig, ax = plt.subplots(figsize=(20,10))\n",
    "ind = np.arange(5)    # the x locations for the groups\n",
    "width = 0.15         # the width of the bars\n",
    "p1 = ax.bar(ind, false_stats_neg/sum(false_stats_neg), width, color='r')\n",
    "p2 = ax.bar(ind+width, true_stats_neg/sum(true_stats_neg), width, color='g')\n",
    "p3 = ax.bar(ind+width*2, half_true_stats_neg/sum(half_true_stats_neg), width, color='b')\n",
    "p4 = ax.bar(ind+width*3, mostly_true_stats_neg/sum(mostly_true_stats_neg), width, color='gray')\n",
    "p5 = ax.bar(ind+width*4, barely_true_stats_neg/sum(barely_true_stats_neg), width, color='orange')\n",
    "p6 = ax.bar(ind+width*5, pans_fire_stats_neg/sum(pans_fire_stats_neg),width,color='skyblue')\n",
    "ax.set_title('Negative levels among sentences')\n",
    "ax.set_xticks(ind + width / 2)\n",
    "ax.set_xticklabels(('-1', '-2', '-3', '-4', '-5'))\n",
    "\n",
    "ax.legend((p1[0], p2[0],p3[0],p4[0],p5[0],p6[0]), ('False', 'True', 'Half-True','Mostly-true','Barely-true','Pants-fire'))\n",
    "#ax.yaxis.set_units(inch)\n",
    "ax.autoscale_view()\n",
    "\n",
    "plt.show()"
   ]
  },
  {
   "cell_type": "code",
   "execution_count": 455,
   "metadata": {},
   "outputs": [
    {
     "data": {
      "text/plain": [
       "array([2, 1, 1, ..., 2, 1, 2], dtype=int64)"
      ]
     },
     "execution_count": 455,
     "metadata": {},
     "output_type": "execute_result"
    }
   ],
   "source": [
    "sentiment_data.iloc[:,1].values"
   ]
  },
  {
   "cell_type": "code",
   "execution_count": 452,
   "metadata": {},
   "outputs": [
    {
     "data": {
      "text/plain": [
       "array([1, 5, 6, ..., 5, 1, 3])"
      ]
     },
     "execution_count": 452,
     "metadata": {},
     "output_type": "execute_result"
    }
   ],
   "source": [
    "multi_labels_tr"
   ]
  },
  {
   "cell_type": "code",
   "execution_count": 521,
   "metadata": {},
   "outputs": [],
   "source": [
    "sentiment_features = np.zeros((len(multi_labels_tr),2))"
   ]
  },
  {
   "cell_type": "code",
   "execution_count": 523,
   "metadata": {},
   "outputs": [],
   "source": [
    "sentiment_features = sentiment_features.T"
   ]
  },
  {
   "cell_type": "code",
   "execution_count": 525,
   "metadata": {},
   "outputs": [],
   "source": [
    "sentiment_features[0] = sentiment_data.iloc[:,1].values\n",
    "sentiment_features[1] = sentiment_data.iloc[:,2].values"
   ]
  },
  {
   "cell_type": "markdown",
   "metadata": {},
   "source": [
    "# All Cap words, enquoted phrases, words in parenthesis"
   ]
  },
  {
   "cell_type": "code",
   "execution_count": 50,
   "metadata": {},
   "outputs": [],
   "source": [
    "all_cap = [1 if len(x)>0 else 0 for x in [re.findall('([A-Z]+\\s)', x) for x in liwc_data.iloc[:,2].values]]"
   ]
  },
  {
   "cell_type": "code",
   "execution_count": 45,
   "metadata": {},
   "outputs": [],
   "source": [
    "enquoted_words = [1 if len(x)>0 else 0 for x in [re.findall(r'[\"|\\']([^\"]*)[\"|\\']', x) for x in liwc_data.iloc[:,2].values] ]"
   ]
  },
  {
   "cell_type": "code",
   "execution_count": 47,
   "metadata": {},
   "outputs": [],
   "source": [
    "parenthesis_words = [1 if len(x)>0 else 0 for x in [re.findall(r'[(]([^\"]*)[)]', x) for x in liwc_data.iloc[:,2].values] ]"
   ]
  },
  {
   "cell_type": "code",
   "execution_count": 104,
   "metadata": {},
   "outputs": [],
   "source": [
    "from  sklearn.preprocessing import normalize"
   ]
  },
  {
   "cell_type": "code",
   "execution_count": 115,
   "metadata": {},
   "outputs": [
    {
     "data": {
      "text/plain": [
       "array([[0.17142857, 0.34285714, 0.27142857, ..., 0.4       , 0.15714286,\n",
       "        0.42857143]])"
      ]
     },
     "execution_count": 115,
     "metadata": {},
     "output_type": "execute_result"
    }
   ],
   "source": [
    "normalize([liwc_data.iloc[:,3]], axis=1, norm='max')"
   ]
  },
  {
   "cell_type": "code",
   "execution_count": 278,
   "metadata": {},
   "outputs": [],
   "source": [
    "wc_min = min(liwc_data.iloc[:,3])\n",
    "wc_max = max(liwc_data.iloc[:,3])\n",
    "word_count_norm = [(x - wc_min)/(wc_max-wc_min) for x in liwc_data.iloc[:,3]]"
   ]
  },
  {
   "cell_type": "code",
   "execution_count": 279,
   "metadata": {},
   "outputs": [],
   "source": [
    "analytic_min = min(liwc_data.iloc[:,4])\n",
    "analytic_max = max(liwc_data.iloc[:,4])\n",
    "analytic_perc = [(x-analytic_min)/(analytic_max-analytic_min) for x in liwc_data.iloc[:,4]]"
   ]
  },
  {
   "cell_type": "code",
   "execution_count": 280,
   "metadata": {},
   "outputs": [],
   "source": [
    "clout_min = min(liwc_data.iloc[:,5])\n",
    "clout_max = max(liwc_data.iloc[:,5])\n",
    "clout_perc = [(x - clout_min)/(clout_max-clout_min) for x in liwc_data.iloc[:,4]]"
   ]
  },
  {
   "cell_type": "code",
   "execution_count": 281,
   "metadata": {},
   "outputs": [],
   "source": [
    "authentic_min = min(liwc_data.iloc[:,6])\n",
    "authentic_max = max(liwc_data.iloc[:,6])\n",
    "authentic_perc = [(x-authentic_min)/(authentic_max-authentic_min) for x in liwc_data.iloc[:,5]]"
   ]
  },
  {
   "cell_type": "code",
   "execution_count": 282,
   "metadata": {},
   "outputs": [],
   "source": [
    "tone_min = min(liwc_data.iloc[:,7])\n",
    "tone_max = max(liwc_data.iloc[:,7])\n",
    "tone_perc = [(x-tone_min)/(tone_max-tone_min) for x in liwc_data.iloc[:,7]]"
   ]
  },
  {
   "cell_type": "code",
   "execution_count": 283,
   "metadata": {},
   "outputs": [],
   "source": [
    "liwc_data.iloc[:,9]\n",
    "sixltr_min = min(liwc_data.iloc[:,9])\n",
    "sixltr_max = max(liwc_data.iloc[:,9])\n",
    "sixltr_perc = [(x-sixltr_min)/(sixltr_max-sixltr_min) for x in liwc_data.iloc[:,9]]"
   ]
  },
  {
   "cell_type": "markdown",
   "metadata": {},
   "source": [
    "# Create features from LIWC"
   ]
  },
  {
   "cell_type": "code",
   "execution_count": 420,
   "metadata": {},
   "outputs": [],
   "source": [
    "liwc_features = np.zeros((len(liwc_data),len(liwc_data.columns)))"
   ]
  },
  {
   "cell_type": "code",
   "execution_count": 421,
   "metadata": {},
   "outputs": [],
   "source": [
    "#for i in range(3,len(liwc_data.columns)):\n",
    "for i in range(len(liwc_data.columns)):    \n",
    "    #print(liwc_data.iloc[:,i].values)\n",
    "    #print(liwc_features[:,i-3])\n",
    "    if i not in [0,1,2]:#,27,28,30,23,31,6,10,67]:\n",
    "        liwc_features[:,i]=liwc_data.iloc[:,i].values\n",
    "        "
   ]
  },
  {
   "cell_type": "code",
   "execution_count": 422,
   "metadata": {},
   "outputs": [],
   "source": [
    "labels =[x.lower() for x in liwc_data.iloc[:,1].values]"
   ]
  },
  {
   "cell_type": "code",
   "execution_count": 383,
   "metadata": {},
   "outputs": [],
   "source": [
    "# Multiclassifier Labels\n",
    "multi_labels_tr = np.array(preprocessing.create_labels(labels=labels,label_values={'false':1, 'true':2,'pants-fire':3,'barely-true':4,'half-true':5,'mostly-true':6}))\n",
    "#multi_labels_va = np.array(preprocessing.create_labels(labels=va_dict['label'],label_values={'false':1, 'true':2,'pants-fire':3,'barely-true':4,'half-true':5,'mostly-true':6}))\n",
    "\n",
    "# Binary Labels\n",
    "binary_labels_tr = np.array(preprocessing.create_labels(labels=labels,label_values={'false':1, 'true':-1,'pants-fire':1,'barely-true':1,'half-true':0,'mostly-true':-1}))\n",
    "#binary_labels_va = np.array(preprocessing.create_labels(labels=va_dict['label'],label_values={'false':1, 'true':-1,'pants-fire':1,'barely-true':1,'half-true':0,'mostly-true':-1}))"
   ]
  },
  {
   "cell_type": "markdown",
   "metadata": {},
   "source": [
    "# Manually created features"
   ]
  },
  {
   "cell_type": "code",
   "execution_count": 304,
   "metadata": {},
   "outputs": [],
   "source": [
    "manual_features = np.zeros((len(liwc_data),9))\n",
    "manual_features = manual_features.T\n",
    "features_names = ['all_cap','enquoted_words','parethesis_words','analytic_perc','clout_perc','authentic_perc','tone_perc','sixltr_perc'] \n",
    "manual_features[0] = all_cap \n",
    "manual_features[1] = enquoted_words\n",
    "manual_features[2] = parenthesis_words\n",
    "manual_features[3] = word_count_norm\n",
    "manual_features[4] = analytic_perc\n",
    "manual_features[5] = clout_perc\n",
    "manual_features[6] = authentic_perc\n",
    "manual_features[7] = tone_perc\n",
    "manual_features[8] = sixltr_perc\n",
    "manual_features = manual_features.T"
   ]
  },
  {
   "cell_type": "code",
   "execution_count": 297,
   "metadata": {},
   "outputs": [],
   "source": [
    "from sklearn.model_selection import train_test_split"
   ]
  },
  {
   "cell_type": "code",
   "execution_count": 298,
   "metadata": {},
   "outputs": [],
   "source": [
    "from sklearn.tree import DecisionTreeClassifier\n",
    "from sklearn.dummy import DummyClassifier"
   ]
  },
  {
   "cell_type": "markdown",
   "metadata": {},
   "source": [
    "# Normalizing features"
   ]
  },
  {
   "cell_type": "code",
   "execution_count": 423,
   "metadata": {},
   "outputs": [],
   "source": [
    "from sklearn.preprocessing import scale"
   ]
  },
  {
   "cell_type": "code",
   "execution_count": 424,
   "metadata": {},
   "outputs": [],
   "source": [
    "scaled_features = scale(liwc_features, axis=0)"
   ]
  },
  {
   "cell_type": "markdown",
   "metadata": {},
   "source": [
    "# Dummy Classifier"
   ]
  },
  {
   "cell_type": "code",
   "execution_count": 425,
   "metadata": {},
   "outputs": [],
   "source": [
    "X_train, X_test, y_train, y_test = train_test_split(scaled_features[[i for i,x in enumerate(binary_labels_tr) if x!=0]], binary_labels_tr[[i for i,x in enumerate(binary_labels_tr) if x!=0]], test_size=0.2, random_state=42)"
   ]
  },
  {
   "cell_type": "code",
   "execution_count": 432,
   "metadata": {},
   "outputs": [
    {
     "ename": "ValueError",
     "evalue": "Number of features of the model must match the input. Model n_features is 48 and input n_features is 96 ",
     "output_type": "error",
     "traceback": [
      "\u001b[1;31m---------------------------------------------------------------------------\u001b[0m",
      "\u001b[1;31mValueError\u001b[0m                                Traceback (most recent call last)",
      "\u001b[1;32m<ipython-input-432-a3d3224b200f>\u001b[0m in \u001b[0;36m<module>\u001b[1;34m()\u001b[0m\n\u001b[0;32m      3\u001b[0m \u001b[0mclf\u001b[0m \u001b[1;33m=\u001b[0m \u001b[0mDecisionTreeClassifier\u001b[0m\u001b[1;33m(\u001b[0m\u001b[0mmax_depth\u001b[0m\u001b[1;33m=\u001b[0m\u001b[1;36m3\u001b[0m\u001b[1;33m,\u001b[0m \u001b[0mcriterion\u001b[0m\u001b[1;33m=\u001b[0m\u001b[1;34m'entropy'\u001b[0m\u001b[1;33m,\u001b[0m \u001b[0mrandom_state\u001b[0m\u001b[1;33m=\u001b[0m\u001b[1;36m42\u001b[0m\u001b[1;33m)\u001b[0m\u001b[1;33m\u001b[0m\u001b[0m\n\u001b[0;32m      4\u001b[0m \u001b[0mclf\u001b[0m\u001b[1;33m.\u001b[0m\u001b[0mfit\u001b[0m\u001b[1;33m(\u001b[0m\u001b[0mX_new\u001b[0m\u001b[1;33m,\u001b[0m \u001b[0my_train\u001b[0m\u001b[1;33m)\u001b[0m\u001b[1;33m\u001b[0m\u001b[0m\n\u001b[1;32m----> 5\u001b[1;33m \u001b[0mpredicts\u001b[0m\u001b[1;33m=\u001b[0m\u001b[0mclf\u001b[0m\u001b[1;33m.\u001b[0m\u001b[0mpredict\u001b[0m\u001b[1;33m(\u001b[0m\u001b[0mX_test\u001b[0m\u001b[1;33m)\u001b[0m\u001b[1;33m\u001b[0m\u001b[0m\n\u001b[0m\u001b[0;32m      6\u001b[0m \u001b[0mprint\u001b[0m\u001b[1;33m(\u001b[0m\u001b[0maccuracy_score\u001b[0m\u001b[1;33m(\u001b[0m\u001b[0my_test\u001b[0m\u001b[1;33m,\u001b[0m\u001b[0mpredicts\u001b[0m\u001b[1;33m)\u001b[0m\u001b[1;33m)\u001b[0m\u001b[1;33m\u001b[0m\u001b[0m\n\u001b[0;32m      7\u001b[0m \u001b[0mprint\u001b[0m\u001b[1;33m(\u001b[0m\u001b[0mclassification_report\u001b[0m\u001b[1;33m(\u001b[0m\u001b[0my_test\u001b[0m\u001b[1;33m,\u001b[0m \u001b[0mpredicts\u001b[0m\u001b[1;33m)\u001b[0m\u001b[1;33m)\u001b[0m\u001b[1;33m\u001b[0m\u001b[0m\n",
      "\u001b[1;32mC:\\ProgramData\\Anaconda3\\lib\\site-packages\\sklearn\\tree\\tree.py\u001b[0m in \u001b[0;36mpredict\u001b[1;34m(self, X, check_input)\u001b[0m\n\u001b[0;32m    410\u001b[0m         \"\"\"\n\u001b[0;32m    411\u001b[0m         \u001b[0mcheck_is_fitted\u001b[0m\u001b[1;33m(\u001b[0m\u001b[0mself\u001b[0m\u001b[1;33m,\u001b[0m \u001b[1;34m'tree_'\u001b[0m\u001b[1;33m)\u001b[0m\u001b[1;33m\u001b[0m\u001b[0m\n\u001b[1;32m--> 412\u001b[1;33m         \u001b[0mX\u001b[0m \u001b[1;33m=\u001b[0m \u001b[0mself\u001b[0m\u001b[1;33m.\u001b[0m\u001b[0m_validate_X_predict\u001b[0m\u001b[1;33m(\u001b[0m\u001b[0mX\u001b[0m\u001b[1;33m,\u001b[0m \u001b[0mcheck_input\u001b[0m\u001b[1;33m)\u001b[0m\u001b[1;33m\u001b[0m\u001b[0m\n\u001b[0m\u001b[0;32m    413\u001b[0m         \u001b[0mproba\u001b[0m \u001b[1;33m=\u001b[0m \u001b[0mself\u001b[0m\u001b[1;33m.\u001b[0m\u001b[0mtree_\u001b[0m\u001b[1;33m.\u001b[0m\u001b[0mpredict\u001b[0m\u001b[1;33m(\u001b[0m\u001b[0mX\u001b[0m\u001b[1;33m)\u001b[0m\u001b[1;33m\u001b[0m\u001b[0m\n\u001b[0;32m    414\u001b[0m         \u001b[0mn_samples\u001b[0m \u001b[1;33m=\u001b[0m \u001b[0mX\u001b[0m\u001b[1;33m.\u001b[0m\u001b[0mshape\u001b[0m\u001b[1;33m[\u001b[0m\u001b[1;36m0\u001b[0m\u001b[1;33m]\u001b[0m\u001b[1;33m\u001b[0m\u001b[0m\n",
      "\u001b[1;32mC:\\ProgramData\\Anaconda3\\lib\\site-packages\\sklearn\\tree\\tree.py\u001b[0m in \u001b[0;36m_validate_X_predict\u001b[1;34m(self, X, check_input)\u001b[0m\n\u001b[0;32m    382\u001b[0m                              \u001b[1;34m\"match the input. Model n_features is %s and \"\u001b[0m\u001b[1;33m\u001b[0m\u001b[0m\n\u001b[0;32m    383\u001b[0m                              \u001b[1;34m\"input n_features is %s \"\u001b[0m\u001b[1;33m\u001b[0m\u001b[0m\n\u001b[1;32m--> 384\u001b[1;33m                              % (self.n_features_, n_features))\n\u001b[0m\u001b[0;32m    385\u001b[0m \u001b[1;33m\u001b[0m\u001b[0m\n\u001b[0;32m    386\u001b[0m         \u001b[1;32mreturn\u001b[0m \u001b[0mX\u001b[0m\u001b[1;33m\u001b[0m\u001b[0m\n",
      "\u001b[1;31mValueError\u001b[0m: Number of features of the model must match the input. Model n_features is 48 and input n_features is 96 "
     ]
    }
   ],
   "source": [
    "#for max_depth in range(1,10):\n",
    "#print('Max Depth: ', max_depth)\n",
    "clf = DecisionTreeClassifier(max_depth=3, criterion='entropy', random_state=42)\n",
    "clf.fit(X_new, y_train)\n",
    "predicts=clf.predict(X_test)\n",
    "print(accuracy_score(y_test,predicts))\n",
    "print(classification_report(y_test, predicts))"
   ]
  },
  {
   "cell_type": "code",
   "execution_count": 427,
   "metadata": {},
   "outputs": [
    {
     "name": "stderr",
     "output_type": "stream",
     "text": [
      "C:\\ProgramData\\Anaconda3\\lib\\site-packages\\sklearn\\ensemble\\weight_boosting.py:29: DeprecationWarning: numpy.core.umath_tests is an internal NumPy module and should not be imported. It will be removed in a future NumPy release.\n",
      "  from numpy.core.umath_tests import inner1d\n"
     ]
    },
    {
     "data": {
      "text/plain": [
       "(6516, 48)"
      ]
     },
     "execution_count": 427,
     "metadata": {},
     "output_type": "execute_result"
    }
   ],
   "source": [
    "from sklearn.feature_selection import SelectFromModel\n",
    "from sklearn.ensemble import ExtraTreesClassifier\n",
    "clf = ExtraTreesClassifier(n_estimators=50)\n",
    "clf = clf.fit(X_train, y_train)\n",
    "model = SelectFromModel(clf, prefit=True)\n",
    "X_new = model.transform(X_train)\n",
    "X_new.shape  "
   ]
  },
  {
   "cell_type": "code",
   "execution_count": 428,
   "metadata": {},
   "outputs": [
    {
     "name": "stdout",
     "output_type": "stream",
     "text": [
      "0 0.0 A\n",
      "1 0.0 B\n",
      "2 0.0 C\n",
      "3 0.016419169313135768 WC\n",
      "4 0.01634618058175735 Analytic\n",
      "5 0.017370341473270795 Clout\n",
      "6 0.021432053392764425 Authentic\n",
      "7 0.012122472534330042 Tone\n",
      "8 0.016512963426835885 WPS\n",
      "9 0.01993146393308303 Sixltr\n",
      "10 0.02045324811180354 Dic\n",
      "11 0.01867389798690371 function\n",
      "12 0.014168485205606256 pronoun\n",
      "13 0.011787018333348389 ppron\n",
      "14 0.00606403567129038 i\n",
      "15 0.007924529772072803 we\n",
      "16 0.004493524430556781 you\n",
      "17 0.006717337852972908 shehe\n",
      "18 0.007125931712835839 they\n",
      "19 0.012450232095030456 ipron\n",
      "20 0.019361921638449398 article\n",
      "21 0.01889405191746397 prep\n",
      "22 0.01737647689107642 auxverb\n",
      "23 0.014002500033625506 adverb\n",
      "24 0.014501038483904272 conj\n",
      "25 0.009890182927153645 negate\n",
      "26 0.018607147249540365 verb\n",
      "27 0.01770343944814575 adj\n",
      "28 0.016510148341842078 compare\n",
      "29 0.008029431988339795 interrog\n",
      "30 0.02334470089003184 number\n",
      "31 0.018750876578523916 quant\n",
      "32 0.01289877588841036 affect\n",
      "33 0.010795923759981613 posemo\n",
      "34 0.009520858721857135 negemo\n",
      "35 0.002698093779548325 anx\n",
      "36 0.00606442255552812 anger\n",
      "37 0.004874477677798263 sad\n",
      "38 0.016445974951175137 social\n",
      "39 0.004506220324390961 family\n",
      "40 0.0021154880818387224 friend\n",
      "41 0.00480316044178604 female\n",
      "42 0.00748536868426208 male\n",
      "43 0.01583364766662155 cogproc\n",
      "44 0.008603098343957886 insight\n",
      "45 0.011881138574658931 cause\n",
      "46 0.00859239237464935 discrep\n",
      "47 0.0112326272022218 tentat\n",
      "48 0.010393317235596111 certain\n",
      "49 0.013421001619866089 differ\n",
      "50 0.01372769616502117 percept\n",
      "51 0.006211768749044689 see\n",
      "52 0.011133267631032276 hear\n",
      "53 0.003229911967954224 feel\n",
      "54 0.011195046222131846 bio\n",
      "55 0.002524847153912751 body\n",
      "56 0.009094601174610018 health\n",
      "57 0.005381465944252602 sexual\n",
      "58 0.004114924875996424 ingest\n",
      "59 0.017233711890186687 drives\n",
      "60 0.011369273917530174 affiliation\n",
      "61 0.012566984043389193 achieve\n",
      "62 0.016619220661807585 power\n",
      "63 0.01019631644413024 reward\n",
      "64 0.007470228966281753 risk\n",
      "65 0.016666651151494204 focuspast\n",
      "66 0.018244148381270947 focuspresent\n",
      "67 0.010261300750502517 focusfuture\n",
      "68 0.018883070743362818 relativ\n",
      "69 0.012729023219305493 motion\n",
      "70 0.017979438987591186 space\n",
      "71 0.017391572825870293 time\n",
      "72 0.017553017359932966 work\n",
      "73 0.00840992746756215 leisure\n",
      "74 0.007050847124317443 home\n",
      "75 0.015899954846007654 money\n",
      "76 0.004130892769379411 relig\n",
      "77 0.005373288086388635 death\n",
      "78 0.0020872925836124935 informal\n",
      "79 0.0003181632828765092 swear\n",
      "80 0.0010797601227109644 netspeak\n",
      "81 0.0009315599870968824 assent\n",
      "82 0.0006329260305040252 nonflu\n",
      "83 8.40751587606228e-05 filler\n",
      "84 0.0179192060684179 AllPunc\n",
      "85 0.017518272549020983 Period\n",
      "86 0.013773579868182551 Comma\n",
      "87 0.00177297257393217 Colon\n",
      "88 0.0007194626810296624 SemiC\n",
      "89 0.0009954134781243519 QMark\n",
      "90 0.0012165976157817835 Exclam\n",
      "91 0.01180267507373596 Dash\n",
      "92 0.005450653580615493 Quote\n",
      "93 0.004884905532567182 Apostro\n",
      "94 0.0076145014383388965 Parenth\n",
      "95 0.009424792754580419 OtherP\n"
     ]
    }
   ],
   "source": [
    "for i,x in enumerate(clf.feature_importances_):\n",
    "    print(i, x, liwc_data.columns[i])"
   ]
  },
  {
   "cell_type": "code",
   "execution_count": 386,
   "metadata": {
    "collapsed": true
   },
   "outputs": [
    {
     "name": "stdout",
     "output_type": "stream",
     "text": [
      "0.5552147239263804\n",
      "             precision    recall  f1-score   support\n",
      "\n",
      "         -1       0.00      0.00      0.00       725\n",
      "          1       0.56      1.00      0.71       905\n",
      "\n",
      "avg / total       0.31      0.56      0.40      1630\n",
      "\n"
     ]
    },
    {
     "name": "stderr",
     "output_type": "stream",
     "text": [
      "C:\\ProgramData\\Anaconda3\\lib\\site-packages\\sklearn\\metrics\\classification.py:1135: UndefinedMetricWarning: Precision and F-score are ill-defined and being set to 0.0 in labels with no predicted samples.\n",
      "  'precision', 'predicted', average, warn_for)\n"
     ]
    }
   ],
   "source": [
    "dclf = DummyClassifier(strategy='most_frequent', random_state=42)\n",
    "dclf.fit(X_train, y_train)\n",
    "predicts=dclf.predict(X_test)\n",
    "print(accuracy_score(y_test,predicts))\n",
    "print(classification_report(y_test, predicts))"
   ]
  },
  {
   "cell_type": "code",
   "execution_count": null,
   "metadata": {},
   "outputs": [],
   "source": []
  }
 ],
 "metadata": {
  "kernelspec": {
   "display_name": "Python 3",
   "language": "python",
   "name": "python3"
  },
  "language_info": {
   "codemirror_mode": {
    "name": "ipython",
    "version": 3
   },
   "file_extension": ".py",
   "mimetype": "text/x-python",
   "name": "python",
   "nbconvert_exporter": "python",
   "pygments_lexer": "ipython3",
   "version": "3.6.5"
  }
 },
 "nbformat": 4,
 "nbformat_minor": 2
}
