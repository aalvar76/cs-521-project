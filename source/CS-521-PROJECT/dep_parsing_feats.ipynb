{
 "cells": [
  {
   "cell_type": "code",
   "execution_count": 4,
   "metadata": {},
   "outputs": [
    {
     "data": {
      "text/plain": [
       "array(['statement_ID', 'label', 'statement', 'subject', 'speaker',\n",
       "       'job_title', 'state_info', 'pantry_affiliation', 'barely_true_cnt',\n",
       "       'false_cnt', 'half_true_cnt', 'mostly_true_cnt',\n",
       "       'pants_on_fire_cnt', 'context'], dtype=object)"
      ]
     },
     "execution_count": 4,
     "metadata": {},
     "output_type": "execute_result"
    }
   ],
   "source": [
    "import spacy\n",
    "import en_core_web_sm\n",
    "import pandas as pd\n",
    "import numpy as np\n",
    "from nltk.corpus import stopwords\n",
    "\n",
    "## read dataset\n",
    "df=pd.read_csv('train.tsv',delimiter='\\t',encoding='utf-8')\n",
    "df.columns=['statement_ID','label','statement','subject','speaker','job_title',\n",
    "           'state_info','pantry_affiliation','barely_true_cnt','false_cnt',\n",
    "           'half_true_cnt','mostly_true_cnt','pants_on_fire_cnt','context']\n",
    "\n",
    "## remove stop words\n",
    "stop=stopwords.words('english')\n",
    "df['statement']=df['statement'].apply(lambda x: \"\".join([word for word in x.split() if word not in (stop)]))\n",
    "\n",
    "nlp=en_core_web_sm.load()\n",
    "df.columns.values\n",
    "\n",
    "# nn_phr=[]\n",
    "# for i in range(0,len(df)):\n",
    "#     sent=nlp(df['statement'][i])\n",
    "#     res=list(sent.noun_chunks)\n",
    "#     nn_phr.append(res)\n",
    "\n",
    "# final_res=[]\n",
    "# for noun_phrase in nn_phr:\n",
    "#     res=noun_phrase.merge(noun_phrase.root.tag_, noun_phrase.root.lemma_, noun_phrase.root.ent_type_))\n",
    "#     final_res.append(res)\n"
   ]
  },
  {
   "cell_type": "markdown",
   "metadata": {},
   "source": [
    "### Helper function to extract key target phrases in fake news statement\n"
   ]
  },
  {
   "cell_type": "code",
   "execution_count": null,
   "metadata": {},
   "outputs": [],
   "source": [
    "def get_noun_Phrase(doc):\n",
    "    assert len(doc)>=0\n",
    "    nn_phrase, nn_chunks = [],[]\n",
    "    for i in range(0, len(df)):\n",
    "        sent = nlp(df['statement'][i])\n",
    "        res = list(sent.noun_chunks)\n",
    "        nn_chunks.append(res)\n",
    "    for noun_phrase in nn_chunks:\n",
    "        res = noun_phrase.merge(noun_phrase.root.tag_, noun_phrase.root.lemma_, noun_phrase.root.ent_type_)\n",
    "        nn_phrase.append(res)\n",
    "    return nn_phrase\n",
    "\n",
    "## test the function\n",
    "dataset=df.loc[1:10,]\n",
    "dataset.head()\n",
    "\n",
    "get_noun_Phrase(dataset)"
   ]
  },
  {
   "cell_type": "markdown",
   "metadata": {},
   "source": [
    "### Helper function to extract noun-adjective phrase in fake news statement"
   ]
  },
  {
   "cell_type": "code",
   "execution_count": null,
   "metadata": {},
   "outputs": [],
   "source": [
    "def get_noun_adj(doc):\n",
    "    nlp=en_core_web_sm.load()\n",
    "    noun_adjs=[]\n",
    "    for i in range(0, len(doc)):\n",
    "        sent = nlp(df['statement'][i])\n",
    "        for j, tok in enumerate(sent):\n",
    "            if tok.pos_ not in ('NOUN','PRON'):\n",
    "                continue\n",
    "            for k in range(i+1, len(sent)):\n",
    "                if sent[j].pos_=='ADJ':\n",
    "                    noun_adjs.append(tok, sent[j])\n",
    "                    break\n",
    "    return noun_adjs\n",
    "\n",
    "## test helper function\n",
    "dataset=df.loc[1:10,]\n",
    "get_noun_adj(dataset)\n"
   ]
  },
  {
   "cell_type": "markdown",
   "metadata": {},
   "source": [
    "### Helper function to extract compound noun adjectives"
   ]
  },
  {
   "cell_type": "code",
   "execution_count": null,
   "metadata": {},
   "outputs": [],
   "source": [
    "def get_compound_nn_adj(doc):\n",
    "    compounds_nn_pairs = []\n",
    "    for i in range(0, len(doc)):\n",
    "        sent = nlp(doc['statement'][i])\n",
    "        compounds=[token for token in sent if token.dep_=='compound']\n",
    "        compounds=[nc for nc in compounds if nc.i==0 or sent[nc.i-1].dep_!='compound']\n",
    "        if compounds:\n",
    "            for token in compounds:\n",
    "                pair_1, pair_2=(False, False)\n",
    "                noun=sent[token.i:token.head.i+1]\n",
    "                pair_1=noun\n",
    "                if noun.root.dep_=='nsubj':\n",
    "                    adj_list=[rt for rt in noun.root.head.rights if rt.pos_=='ADJ']\n",
    "                    if adj_list:\n",
    "                        pair_2=adj_list[0]\n",
    "                if noun.root.dep_=='dobj':\n",
    "                    verb_root=[vb for vb in noun.root.ancestors if vb.pos_=='VERB']\n",
    "                    if verb_root:\n",
    "                        pair_2=verb_root[0]\n",
    "                if pair_1 and pair_2:\n",
    "                    compounds_nn_pairs.append(pair_1, pair_2)\n",
    "        else:\n",
    "            return False\n",
    "    return compounds_nn_pairs\n",
    "\n",
    "## test the helper function\n",
    "dataset=df.loc[1:10,]\n",
    "get_compound_nn_adj(dataset)"
   ]
  },
  {
   "cell_type": "code",
   "execution_count": null,
   "metadata": {},
   "outputs": [],
   "source": []
  }
 ],
 "metadata": {
  "kernelspec": {
   "display_name": "Python 3",
   "language": "python",
   "name": "python3"
  },
  "language_info": {
   "codemirror_mode": {
    "name": "ipython",
    "version": 3
   },
   "file_extension": ".py",
   "mimetype": "text/x-python",
   "name": "python",
   "nbconvert_exporter": "python",
   "pygments_lexer": "ipython3",
   "version": "3.6.4"
  }
 },
 "nbformat": 4,
 "nbformat_minor": 2
}
