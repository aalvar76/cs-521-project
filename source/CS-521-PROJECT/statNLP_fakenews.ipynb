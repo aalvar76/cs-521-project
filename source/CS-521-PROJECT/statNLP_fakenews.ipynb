{
 "cells": [
  {
   "cell_type": "code",
   "execution_count": 1,
   "metadata": {},
   "outputs": [],
   "source": [
    "## statisitical natural language processing\n",
    "## Project Member: Jurat, Aldo"
   ]
  },
  {
   "cell_type": "markdown",
   "metadata": {},
   "source": [
    "### Data-Preprocessing\n"
   ]
  },
  {
   "cell_type": "code",
   "execution_count": 50,
   "metadata": {},
   "outputs": [
    {
     "name": "stdout",
     "output_type": "stream",
     "text": [
      "['2635.json', 'false', 'Says the Annies List political group supports third-trimester abortions on demand.', 'abortion', 'dwayne-bohac', 'State representative', 'Texas', 'republican', '0', '1', '0', '0', '0', 'a mailer']\n",
      "['10540.json', 'half-true', 'When did the decline of coal start? It started when natural gas took off that started to begin in (President George W.) Bushs administration.', 'energy,history,job-accomplishments', 'scott-surovell', 'State delegate', 'Virginia', 'democrat', '0', '0', '1', '1', '0', 'a floor speech.']\n",
      "['324.json', 'mostly-true', 'Hillary Clinton agrees with John McCain \"by voting to give George Bush the benefit of the doubt on Iran.\"', 'foreign-policy', 'barack-obama', 'President', 'Illinois', 'democrat', '70', '71', '160', '163', '9', 'Denver']\n",
      "['1123.json', 'false', 'Health care reform legislation is likely to mandate free sex change surgeries.', 'health-care', 'blog-posting', '', '', 'none', '7', '19', '3', '5', '44', 'a news release']\n",
      "['9028.json', 'half-true', 'The economic turnaround started at the end of my term.', 'economy,jobs', 'charlie-crist', '', 'Florida', 'democrat', '15', '9', '20', '19', '2', 'an interview on CNN']\n",
      "['12465.json', 'true', 'The Chicago Bears have had more starting quarterbacks in the last 10 years than the total number of tenured (UW) faculty fired during the last two decades.', 'education', 'robin-vos', 'Wisconsin Assembly speaker', 'Wisconsin', 'republican', '0', '3', '2', '5', '1', 'a an online opinion-piece']\n",
      "['2342.json', 'barely-true', 'Jim Dunnam has not lived in the district he represents for years now.', 'candidates-biography', 'republican-party-texas', '', 'Texas', 'republican', '3', '1', '1', '3', '1', 'a press release.']\n",
      "['153.json', 'half-true', \"I'm the only person on this stage who has worked actively just last year passing, along with Russ Feingold, some of the toughest ethics reform since Watergate.\", 'ethics', 'barack-obama', 'President', 'Illinois', 'democrat', '70', '71', '160', '163', '9', 'a Democratic debate in Philadelphia, Pa.']\n",
      "['5602.json', 'half-true', 'However, it took $19.5 million in Oregon Lottery funds for the Port of Newport to eventually land the new NOAA Marine Operations Center-Pacific.', 'jobs', 'oregon-lottery', '', '', 'organization', '0', '0', '1', '0', '1', 'a website ']\n",
      "['9741.json', 'mostly-true', 'Says GOP primary opponents Glenn Grothman and Joe Leibham cast a compromise vote that cost $788 million in higher electricity costs.', 'energy,message-machine-2014,voting-record', 'duey-stroebel', 'State representative', 'Wisconsin', 'republican', '0', '0', '0', '1', '0', 'an online video']\n",
      "['7115.json', 'mostly-true', 'For the first time in history, the share of the national popular vote margin is smaller than the Latino vote margin.', 'elections', 'robert-menendez', 'U.S. Senator', 'New Jersey', 'democrat', '1', '3', '1', '3', '0', 'a speech']\n",
      "['4148.json', 'half-true', 'Since 2000, nearly 12 million Americans have slipped out of the middle class and into poverty.', 'economy,jobs,new-hampshire-2012,poverty', 'bernie-s', 'U.S. Senator', 'Vermont', 'independent', '18', '12', '22', '41', '0', 'a tweet']\n",
      "['5947.json', 'false', 'When Mitt Romney was governor of Massachusetts, we didnt just slow the rate of growth of our government, we actually cut it.', 'history,state-budget', 'mitt-romney', 'Former governor', 'Massachusetts', 'republican', '34', '32', '58', '33', '19', 'an interview with CBN News']\n",
      "['8616.json', 'mostly-true', 'The economy bled $24 billion due to the government shutdown.', 'economy,federal-budget,health-care', 'doonesbury', '', '', 'none', '0', '0', '2', '4', '0', 'a Doonesbury strip in the Sunday comics']\n",
      "['8705.json', 'barely-true', 'Most of the (Affordable Care Act) has already in some sense been waived or otherwise suspended.', 'health-care', 'george-will', 'Columnist', 'Maryland', 'columnist', '7', '6', '3', '5', '1', 'comments on \"Fox News Sunday\"']\n",
      "['10683.json', 'half-true', 'In this last election in November, ... 63 percent of the American people chose not to vote, ... 80 percent of young people, (and) 75 percent of low-income workers chose not to vote.', 'elections', 'bernie-s', 'U.S. Senator', 'Vermont', 'independent', '18', '12', '22', '41', '0', 'a town hall in Austin, Texas']\n",
      "['620.json', 'true', \"McCain opposed a requirement that the government buy American-made motorcycles. And he said all buy-American provisions were quote 'disgraceful.' \", 'federal-budget', 'barack-obama', 'President', 'Illinois', 'democrat', '70', '71', '160', '163', '9', 'a radio ad']\n",
      "['3863.json', 'barely-true', 'U.S. Rep. Ron Kind, D-Wis., and his fellow Democrats went on a spending spree and now their credit card is maxed out', 'federal-budget', 'national-republican-congressional-committee', '', '', 'republican', '18', '9', '8', '5', '8', 'a news release']\n",
      "['12372.json', 'half-true', 'Water rates in Manila, Philippines, were raised up to 845 percent when a subsidiary of the World Bank became a partial owner.', 'financial-regulation,foreign-policy,water', 'gwen-moore', 'U.S. House member -- 4th District', 'Wisconsin', 'democrat', '3', '4', '4', '3', '1', 'a congressional hearing']\n",
      "['12385.json', 'mostly-true', 'Almost 100,000 people left Puerto Rico last year.', 'bankruptcy,economy,population', 'jack-lew', 'Treasury secretary ', 'Washington, D.C. ', 'democrat', '0', '1', '0', '1', '0', 'an interview with Bloomberg News']\n",
      "['10173.json', 'false', 'Women and men both are making less when you adjust for inflation than when John Kitzhaber was first elected governor.', 'economy,income', 'dennis-richardson', 'state representative', 'Oregon', 'republican', '0', '4', '1', '2', '0', 'a campaign debate']\n",
      "['9867.json', 'mostly-true', 'The United States has the highest corporate tax rate in the free world.', 'corporations,taxes', 'eric-bolling', 'Co-host on Fox News Channel\\'s \"The Five\"', '', 'none', '2', '1', '1', '1', '0', 'a discussion on Fox News\\' \"The Five\"']\n",
      "['12408.json', 'mostly-true', 'We just had the best year for the auto industry in America in history.', 'economy', 'hillary-clinton', 'Presidential candidate', 'New York', 'democrat', '40', '29', '69', '76', '7', 'remarks at a Kentucky rally']\n",
      "['2673.json', 'half-true', 'Says Scott Walker favors cutting up to 350,000 families and children off health care.', 'health-care,message-machine', 'greater-wisconsin-political-fund', '', 'Wisconsin', 'none', '3', '3', '3', '1', '1', 'a campaign TV ad']\n",
      "['7057.json', 'barely-true', 'Says Mitt Romney wants to get rid of Planned Parenthood.', 'abortion,federal-budget,health-care', 'planned-parenthood-action-fund', 'Advocacy group', 'Washington, D.C.', 'none', '1', '0', '0', '0', '0', 'a radio ad']\n",
      "['10215.json', 'false', 'I dont know who (Jonathan Gruber) is.', 'health-care', 'nancy-pelosi', 'House Minority Leader', 'California', 'democrat', '3', '7', '11', '2', '3', 'a news conference']\n",
      "['12517.json', 'mostly-true', 'Hate crimes against American Muslims and mosques have tripled after Paris and San Bernardino.', 'crime,diversity,homeland-security,terrorism', 'hillary-clinton', 'Presidential candidate', 'New York', 'democrat', '40', '29', '69', '76', '7', 'a speech after a terrorist attack in Orlando']\n",
      "['3910.json', 'half-true', 'Rick Perry has never lost an election and remains the only person to have won the Texas governorship three times in landslide elections.', 'candidates-biography', 'ted-nugent', 'musician', 'Texas', 'republican', '0', '0', '2', '0', '2', 'an oped column.']\n",
      "['11092.json', 'false', 'ISIS supporter tweeted at 10:34 a.m. Shooting began at 10:45 a.m. in Chattanooga, Tenn.', 'technology,terrorism', 'pamela-geller', 'President of American Freedom Defense Intitiative', 'New York', 'activist', '0', '1', '1', '0', '0', 'a tweet ']\n",
      "['12163.json', 'mostly-true', 'Youth unemployment in minority communities is about 40 to 45 percent.', 'diversity,economy,jobs', 'peter-kinder', 'Lieutenant governor', 'Missouri', 'republican', '0', '0', '0', '1', '1', 'a gubernatorial debate']\n",
      "['13237.json', 'true', 'Says Paul Ryan is still endorsing Trump.', 'candidates-biography,elections,campaign-advertising', 'hillary-clinton', 'Presidential candidate', 'New York', 'democrat', '40', '29', '69', '76', '7', 'a tweet']\n",
      "['5383.json', 'barely-true', 'If you look at states that are right to work, they constantly do not have budget deficits and they have very good business climates.', 'economy,labor,states,unions,workers', 'nicholas-kettle', 'State senator', 'Rhode Island', 'republican', '1', '0', '0', '0', '0', 'a radio talk show']\n",
      "['9727.json', 'false', 'What (the Obama administration is) going to come out with in the next several months is youre not even going to be able to burn coal very limitedly in the existing plants.', 'climate-change,energy,environment,government-regulation', 'shelley-moore-capito', 'U.S. House of Representative', 'West Virginia', 'republican', '1', '1', '0', '0', '0', 'a campaign ad']\n",
      "['8239.json', 'mostly-true', 'We cut business taxes so today 70 percent of our businesses dont pay a business tax.', 'small-business,taxes', 'rick-scott', 'Governor', 'Florida', 'republican', '28', '23', '38', '34', '7', 'a speech at an Americans for Prosperity Foundation conference']\n",
      "['10121.json', 'mostly-true', 'Says Mark Pryor votes with Obama 93 percent of the time.', 'bipartisanship,voting-record', 'tom-cotton', 'U.S. House of Representatives', 'Arkansas', 'republican', '3', '4', '2', '3', '1', 'a debate']\n"
     ]
    },
    {
     "ename": "UnicodeDecodeError",
     "evalue": "'charmap' codec can't decode byte 0x9d in position 1942: character maps to <undefined>",
     "output_type": "error",
     "traceback": [
      "\u001b[1;31m---------------------------------------------------------------------------\u001b[0m",
      "\u001b[1;31mUnicodeDecodeError\u001b[0m                        Traceback (most recent call last)",
      "\u001b[1;32m<ipython-input-50-f6c804ad5cdf>\u001b[0m in \u001b[0;36m<module>\u001b[1;34m()\u001b[0m\n\u001b[0;32m     16\u001b[0m \u001b[1;33m\u001b[0m\u001b[0m\n\u001b[0;32m     17\u001b[0m \u001b[1;31m#\u001b[0m\u001b[1;33m\u001b[0m\u001b[1;33m\u001b[0m\u001b[0m\n\u001b[1;32m---> 18\u001b[1;33m \u001b[0mdf\u001b[0m\u001b[1;33m=\u001b[0m\u001b[0mread_file\u001b[0m\u001b[1;33m(\u001b[0m\u001b[1;34m'train.tsv'\u001b[0m\u001b[1;33m)\u001b[0m\u001b[1;33m\u001b[0m\u001b[0m\n\u001b[0m\u001b[0;32m     19\u001b[0m \u001b[1;33m\u001b[0m\u001b[0m\n\u001b[0;32m     20\u001b[0m \u001b[1;31m# s = \"string. With. Punctuation?\"\u001b[0m\u001b[1;33m\u001b[0m\u001b[1;33m\u001b[0m\u001b[0m\n",
      "\u001b[1;32m<ipython-input-50-f6c804ad5cdf>\u001b[0m in \u001b[0;36mread_file\u001b[1;34m(txt)\u001b[0m\n\u001b[0;32m     12\u001b[0m     \u001b[1;32mwith\u001b[0m \u001b[0mopen\u001b[0m\u001b[1;33m(\u001b[0m\u001b[0mtxt\u001b[0m\u001b[1;33m,\u001b[0m \u001b[1;34m'r'\u001b[0m\u001b[1;33m)\u001b[0m \u001b[1;32mas\u001b[0m \u001b[0mfd\u001b[0m\u001b[1;33m:\u001b[0m\u001b[1;33m\u001b[0m\u001b[0m\n\u001b[0;32m     13\u001b[0m         \u001b[0mrd\u001b[0m \u001b[1;33m=\u001b[0m \u001b[0mcsv\u001b[0m\u001b[1;33m.\u001b[0m\u001b[0mreader\u001b[0m\u001b[1;33m(\u001b[0m\u001b[0mfd\u001b[0m\u001b[1;33m,\u001b[0m \u001b[0mdelimiter\u001b[0m\u001b[1;33m=\u001b[0m\u001b[1;34m\"\\t\"\u001b[0m\u001b[1;33m,\u001b[0m \u001b[0mquotechar\u001b[0m\u001b[1;33m=\u001b[0m\u001b[1;34m'\"'\u001b[0m\u001b[1;33m)\u001b[0m\u001b[1;33m\u001b[0m\u001b[0m\n\u001b[1;32m---> 14\u001b[1;33m         \u001b[1;32mfor\u001b[0m \u001b[0mline\u001b[0m \u001b[1;32min\u001b[0m \u001b[0mrd\u001b[0m\u001b[1;33m:\u001b[0m\u001b[1;33m\u001b[0m\u001b[0m\n\u001b[0m\u001b[0;32m     15\u001b[0m             \u001b[0mprint\u001b[0m\u001b[1;33m(\u001b[0m\u001b[0mline\u001b[0m\u001b[1;33m)\u001b[0m\u001b[1;33m\u001b[0m\u001b[0m\n\u001b[0;32m     16\u001b[0m \u001b[1;33m\u001b[0m\u001b[0m\n",
      "\u001b[1;32mc:\\users\\jvrat\\appdata\\local\\programs\\python\\python36\\lib\\encodings\\cp1252.py\u001b[0m in \u001b[0;36mdecode\u001b[1;34m(self, input, final)\u001b[0m\n\u001b[0;32m     21\u001b[0m \u001b[1;32mclass\u001b[0m \u001b[0mIncrementalDecoder\u001b[0m\u001b[1;33m(\u001b[0m\u001b[0mcodecs\u001b[0m\u001b[1;33m.\u001b[0m\u001b[0mIncrementalDecoder\u001b[0m\u001b[1;33m)\u001b[0m\u001b[1;33m:\u001b[0m\u001b[1;33m\u001b[0m\u001b[0m\n\u001b[0;32m     22\u001b[0m     \u001b[1;32mdef\u001b[0m \u001b[0mdecode\u001b[0m\u001b[1;33m(\u001b[0m\u001b[0mself\u001b[0m\u001b[1;33m,\u001b[0m \u001b[0minput\u001b[0m\u001b[1;33m,\u001b[0m \u001b[0mfinal\u001b[0m\u001b[1;33m=\u001b[0m\u001b[1;32mFalse\u001b[0m\u001b[1;33m)\u001b[0m\u001b[1;33m:\u001b[0m\u001b[1;33m\u001b[0m\u001b[0m\n\u001b[1;32m---> 23\u001b[1;33m         \u001b[1;32mreturn\u001b[0m \u001b[0mcodecs\u001b[0m\u001b[1;33m.\u001b[0m\u001b[0mcharmap_decode\u001b[0m\u001b[1;33m(\u001b[0m\u001b[0minput\u001b[0m\u001b[1;33m,\u001b[0m\u001b[0mself\u001b[0m\u001b[1;33m.\u001b[0m\u001b[0merrors\u001b[0m\u001b[1;33m,\u001b[0m\u001b[0mdecoding_table\u001b[0m\u001b[1;33m)\u001b[0m\u001b[1;33m[\u001b[0m\u001b[1;36m0\u001b[0m\u001b[1;33m]\u001b[0m\u001b[1;33m\u001b[0m\u001b[0m\n\u001b[0m\u001b[0;32m     24\u001b[0m \u001b[1;33m\u001b[0m\u001b[0m\n\u001b[0;32m     25\u001b[0m \u001b[1;32mclass\u001b[0m \u001b[0mStreamWriter\u001b[0m\u001b[1;33m(\u001b[0m\u001b[0mCodec\u001b[0m\u001b[1;33m,\u001b[0m\u001b[0mcodecs\u001b[0m\u001b[1;33m.\u001b[0m\u001b[0mStreamWriter\u001b[0m\u001b[1;33m)\u001b[0m\u001b[1;33m:\u001b[0m\u001b[1;33m\u001b[0m\u001b[0m\n",
      "\u001b[1;31mUnicodeDecodeError\u001b[0m: 'charmap' codec can't decode byte 0x9d in position 1942: character maps to <undefined>"
     ]
    }
   ],
   "source": [
    "## remove stop words from given fake news statement\n",
    "from spacy.tokenizer import Tokenizer\n",
    "from spacy import load\n",
    "from nltk.corpus import stopwords\n",
    "from collections import Counter\n",
    "import numpy as np\n",
    "import pandas as pd\n",
    "import xlrd\n",
    "import re\n",
    "\n",
    "def read_file(txt):\n",
    "    with open(txt, 'r') as fd:\n",
    "        rd = csv.reader(fd, delimiter=\"\\t\", quotechar='\"')\n",
    "        for line in rd:\n",
    "            print(line)\n",
    "\n",
    "#\n",
    "df=read_file('train.tsv')\n",
    "    \n",
    "# s = \"string. With. Punctuation?\"\n",
    "# s = re.sub(r'[^\\w\\s]','',s)\n",
    "# print(s)\n"
   ]
  },
  {
   "cell_type": "code",
   "execution_count": 74,
   "metadata": {},
   "outputs": [
    {
     "data": {
      "text/plain": [
       "RangeIndex(start=0, stop=10268, step=1)"
      ]
     },
     "execution_count": 74,
     "metadata": {},
     "output_type": "execute_result"
    }
   ],
   "source": [
    "# wrap it dataframe\n",
    "df=pd.DataFrame(df)\n",
    "df.columns=['statement_ID','label','statement','subject','speaker','job_title',\n",
    "           'state_info','pantry_affiliation','tot_credit_hist_cnt','barely_true_cnt','false_cnt',\n",
    "           'half_true_cnt','mostly_true_cnt','pants_on_fire_cnt']\n",
    "\n",
    "df.head()\n",
    "df.tail()\n",
    "df.shape[0]\n",
    "list(df.columns.values)\n",
    "df.index"
   ]
  },
  {
   "cell_type": "code",
   "execution_count": 108,
   "metadata": {},
   "outputs": [
    {
     "data": {
      "text/plain": [
       "0    Whendeclinecoalstart?Itstartednaturalgastookst...\n",
       "1    HillaryClintonagreesJohnMcCain\"byvotinggiveGeo...\n",
       "2    Healthcarereformlegislationlikelymandatefreese...\n",
       "3                 Theeconomicturnaroundstartedendterm.\n",
       "4    TheChicagoBearsstartingquarterbackslast10years...\n",
       "Name: statement, dtype: object"
      ]
     },
     "execution_count": 108,
     "metadata": {},
     "output_type": "execute_result"
    }
   ],
   "source": [
    "## data cleaning\n",
    "df.statement=df.statement.str.replace(\"\\n\",\"\")\n",
    "df['nExclmas']=df.statement.str.count(\"!\")\n",
    "\n",
    "## remove all stop words in statement column\n",
    "stop=stopwords.words('english')\n",
    "df['statement']=df['statement'].apply(lambda x: \"\".join([word for word in x.split() if word not in (stop)]))\n",
    "df['statement'].head()\n"
   ]
  },
  {
   "cell_type": "code",
   "execution_count": 104,
   "metadata": {},
   "outputs": [
    {
     "name": "stdout",
     "output_type": "stream",
     "text": [
      "['hillaryclintonagreesjohnmccain', 'byvotinggivegeorgebushbenefitdoubtiran', 'hillaryclintonagreesjohnmccain byvotinggivegeorgebushbenefitdoubtiran']\n"
     ]
    }
   ],
   "source": [
    "from sklearn.feature_extraction.text import CountVectorizer \n",
    "vectorizer = CountVectorizer(ngram_range=(1,4))\n",
    "ng_builder = vectorizer.build_analyzer()\n",
    "\n",
    "##\n",
    "ng_1=ng_builder(df['statement'][1])\n",
    "print(list(ng_1))\n",
    "\n",
    "# below code needs to be optimized\n",
    "all_grams=[]\n",
    "for i in range(0, len(df.index)):\n",
    "    sentence=re.sub(r'a-zA-Z',\"\", df['statement'][i])\n",
    "    all_grams.append(ng_builder(sentence))\n"
   ]
  },
  {
   "cell_type": "code",
   "execution_count": 1,
   "metadata": {},
   "outputs": [
    {
     "ename": "SyntaxError",
     "evalue": "invalid syntax (<ipython-input-1-e7162f4dc043>, line 10)",
     "output_type": "error",
     "traceback": [
      "\u001b[1;36m  File \u001b[1;32m\"<ipython-input-1-e7162f4dc043>\"\u001b[1;36m, line \u001b[1;32m10\u001b[0m\n\u001b[1;33m    sentence=re.sub(ur\"[0-9]+|\\p{P}+\", u\"\", line)\u001b[0m\n\u001b[1;37m                                    ^\u001b[0m\n\u001b[1;31mSyntaxError\u001b[0m\u001b[1;31m:\u001b[0m invalid syntax\n"
     ]
    }
   ],
   "source": [
    "## helper function to get bag of words\n",
    "from nltk.tokenize import word_tokenize\n",
    "\n",
    "def tokenize_sent(sentence):\n",
    "    token=word_tokenize(sentence)\n",
    "    return(token)\n",
    "\n",
    "bag_of_words=[]\n",
    "for line in range(len(df.index)):\n",
    "    sentence=re.sub(ur\"[0-9]+|\\p{P}+\", u\"\", line)\n",
    "    sentence=tokenize_sent(df['statement'][i])\n",
    "    bag_of_words.append(sentence)\n",
    "    \n",
    "\n",
    "\n",
    "## helper function to remove the token that are punctuation or whitespace\n",
    "# def process_txt(token):\n",
    "#     res=token.is_punct or token.is_space\n",
    "#     return res\n",
    "\n",
    "## helper function to remove punctuation\n",
    "\n",
    "from string import punctuation\n",
    "\n",
    "def rm_punct(sentence):\n",
    "    flushed_punct=set(string.punctuation)\n",
    "    res=''.join(x for x in sentence if x not in flushed_punct)\n",
    "    return res"
   ]
  },
  {
   "cell_type": "code",
   "execution_count": null,
   "metadata": {},
   "outputs": [],
   "source": [
    "## helper function to lemmatize the token\n",
    "def lemmetize_token(sentence):\n",
    "    lemmati=WordNetLemmatizer()\n",
    "    lemmatized = [[lemmati.lemmatize(word) for word in word_tokenize(s)] for s in sents]\n",
    "    return(list(lemmatized))"
   ]
  }
 ],
 "metadata": {
  "kernelspec": {
   "display_name": "Python 3",
   "language": "python",
   "name": "python3"
  },
  "language_info": {
   "codemirror_mode": {
    "name": "ipython",
    "version": 3
   },
   "file_extension": ".py",
   "mimetype": "text/x-python",
   "name": "python",
   "nbconvert_exporter": "python",
   "pygments_lexer": "ipython3",
   "version": "3.6.4"
  }
 },
 "nbformat": 4,
 "nbformat_minor": 2
}
